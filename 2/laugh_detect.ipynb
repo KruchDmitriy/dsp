{
 "cells": [
  {
   "cell_type": "code",
   "execution_count": 29,
   "metadata": {},
   "outputs": [],
   "source": [
    "import numpy as np\n",
    "import keras\n",
    "import librosa\n",
    "import librosa.display\n",
    "import matplotlib.pyplot as plt\n",
    "%matplotlib inline\n",
    "from utils import mix_with_noise\n",
    "from os import listdir\n",
    "from numpy.random import randint\n",
    "import threading\n",
    "from sklearn.metrics import accuracy_score\n",
    "from sklearn.metrics import roc_auc_score"
   ]
  },
  {
   "cell_type": "code",
   "execution_count": 19,
   "metadata": {},
   "outputs": [
    {
     "data": {
      "text/plain": [
       "<module 'utils.mix_with_noise' from '/home/huckleberry/Projects/dsp/2/utils/mix_with_noise.py'>"
      ]
     },
     "execution_count": 19,
     "metadata": {},
     "output_type": "execute_result"
    }
   ],
   "source": [
    "import imp\n",
    "imp.reload(mix_with_noise)"
   ]
  },
  {
   "cell_type": "code",
   "execution_count": 2,
   "metadata": {
    "collapsed": true
   },
   "outputs": [],
   "source": [
    "def get_srate():\n",
    "    return 22050"
   ]
  },
  {
   "cell_type": "code",
   "execution_count": 3,
   "metadata": {
    "collapsed": true
   },
   "outputs": [],
   "source": [
    "def fbank_features(audio):\n",
    "    melgram = librosa.feature.melspectrogram\n",
    "    \n",
    "    N_FFT = 2048\n",
    "    N_MELS = 96\n",
    "    \n",
    "    x = melgram(y=audio, sr=get_srate(), n_fft=N_FFT, n_mels=N_MELS)\n",
    "    x = librosa.power_to_db(x, np.max)\n",
    "    return x"
   ]
  },
  {
   "cell_type": "code",
   "execution_count": 4,
   "metadata": {
    "collapsed": true
   },
   "outputs": [],
   "source": [
    "def mfcc_features(fbank):\n",
    "    return librosa.feature.mfcc(S=fbank)"
   ]
  },
  {
   "cell_type": "code",
   "execution_count": 5,
   "metadata": {
    "collapsed": true
   },
   "outputs": [],
   "source": [
    "def load_labels(path='../data/laugh/'):\n",
    "    with open(path + 'labels.txt') as f:\n",
    "        labels = f.read().split('\\n')\n",
    "        \n",
    "    track_labels = {}\n",
    "    file_names = []\n",
    "    \n",
    "    for label in labels[1:]:\n",
    "        columns = label.split(',')\n",
    "        file_name = columns[0]\n",
    "        if file_name == '':\n",
    "            continue\n",
    "        \n",
    "        file_names.append(file_name)\n",
    "        \n",
    "        for i in range(4, len(columns), 3):\n",
    "            if columns[i] == 'laughter':\n",
    "                if file_name not in track_labels:\n",
    "                    track_labels[file_name] = []\n",
    "                \n",
    "                track_labels[file_name].append(\n",
    "                    (float(columns[i + 1]), float(columns[i + 2])))\n",
    "                \n",
    "    return file_names, track_labels\n",
    "\n",
    "file_names, track_labels = load_labels()"
   ]
  },
  {
   "cell_type": "code",
   "execution_count": 6,
   "metadata": {},
   "outputs": [],
   "source": [
    "def preload_audio_files(file_names, path='../data/laugh/'):\n",
    "    data = np.zeros((len(file_names), 242550))\n",
    "    invert_index = {}\n",
    "    \n",
    "    for i, file in enumerate(file_names):\n",
    "        audio = librosa.load(path + 'data/' + file + '.wav', sr=get_srate())[0]\n",
    "        data[i, :audio.shape[0]] = audio\n",
    "        invert_index[file] = i\n",
    "        \n",
    "    return data, invert_index\n",
    "\n",
    "laugh_audio_files, laugh_index = preload_audio_files(file_names)"
   ]
  },
  {
   "cell_type": "code",
   "execution_count": 11,
   "metadata": {},
   "outputs": [],
   "source": [
    "def audio_generator(file_names, laugh_audio, laugh_index, \n",
    "                    labels, path='../data/laugh/'):\n",
    "    root = path + 'data/'\n",
    "    while True:\n",
    "        idx = randint(0, len(file_names))\n",
    "        track_name = file_names[idx]\n",
    "        audio = laugh_audio[laugh_index[track_name]]\n",
    "        \n",
    "        label = []\n",
    "        if track_name in labels:\n",
    "            label = labels[track_name]\n",
    "        \n",
    "        yield(audio, label)\n",
    "\n",
    "audio_gen = audio_generator(file_names=file_names, \n",
    "                            laugh_audio=laugh_audio_files, \n",
    "                            laugh_index=laugh_index,\n",
    "                            labels=track_labels)"
   ]
  },
  {
   "cell_type": "code",
   "execution_count": 20,
   "metadata": {},
   "outputs": [],
   "source": [
    "noises = mix_with_noise.preload_noise_files([\n",
    "    '../data/bg_noise/freesound_background_gsm/', \n",
    "    '../data/bg_noise/AUDIONAUTIX_MUSIC_gsm/',\n",
    "    '../data/bg_noise/ASTERISK_MUSIC_gsm/'], get_srate())"
   ]
  },
  {
   "cell_type": "code",
   "execution_count": 21,
   "metadata": {
    "collapsed": true
   },
   "outputs": [],
   "source": [
    "def noise_generator(noises):\n",
    "    while True:\n",
    "        idx = randint(0, len(noises))\n",
    "        yield noises[idx]\n",
    "        \n",
    "noise_gen = noise_generator(noises)"
   ]
  },
  {
   "cell_type": "code",
   "execution_count": 22,
   "metadata": {
    "collapsed": true
   },
   "outputs": [],
   "source": [
    "def get_features(audio):\n",
    "    fbank = fbank_features(audio)\n",
    "    mfcc = mfcc_features(fbank)\n",
    "    return fbank, mfcc\n",
    "\n",
    "def create_from_label(label):\n",
    "    y = np.zeros((474,))\n",
    "    \n",
    "    for start, end in label:\n",
    "        start_idx = int(start / 11. * 474.)\n",
    "        end_idx = int(end / 11. * 474.)\n",
    "        \n",
    "        y[start_idx:end_idx] = 1.\n",
    "    \n",
    "    return y\n",
    "\n",
    "class DataGenerator:\n",
    "    def __init__(self, batch_size=32):\n",
    "        self.batch_size = batch_size\n",
    "        self.lock = threading.Lock()\n",
    "        \n",
    "    def __iter__(self):\n",
    "        return self\n",
    "    \n",
    "    def __next__(self):\n",
    "        batch_size = self.batch_size\n",
    "        \n",
    "        with self.lock:\n",
    "            xs_f = np.zeros((batch_size, 96, 474))\n",
    "            xs_m = np.zeros((batch_size, 20, 474))\n",
    "            ys = np.zeros((batch_size, 474))\n",
    "\n",
    "            for i in range(batch_size):\n",
    "                track, label = next(audio_gen)\n",
    "                noise = next(noise_gen)\n",
    "                x = mix_with_noise.mix_with_noise(track, noise)\n",
    "                x_fbank, x_mfcc = get_features(x)\n",
    "\n",
    "                xs_f[i,:,:x_fbank.shape[1]] = x_fbank\n",
    "                xs_m[i,:,:x_mfcc.shape[1]] = x_mfcc\n",
    "\n",
    "                y = create_from_label(label)\n",
    "                ys[i] = y\n",
    "\n",
    "            xs_f = np.swapaxes(xs_f, 1, 2)\n",
    "            xs_m = np.swapaxes(xs_m, 1, 2)\n",
    "            return [xs_f, xs_m], [ys, ys]"
   ]
  },
  {
   "cell_type": "code",
   "execution_count": 23,
   "metadata": {},
   "outputs": [],
   "source": [
    "def draw_fbank_spectrum(fbank, figw=12, figh=4):\n",
    "    plt.figure(figsize=(figw,figh))\n",
    "    librosa.display.specshow(fbank, sr=get_srate(), x_axis='time', y_axis='mel')\n",
    "    plt.title('mel power spectrogram')\n",
    "    plt.colorbar(format='%+02.0f dB')\n",
    "    plt.tight_layout()"
   ]
  },
  {
   "cell_type": "code",
   "execution_count": 24,
   "metadata": {},
   "outputs": [],
   "source": [
    "from keras.models import Input, Model\n",
    "from keras.layers import LSTM, Dense, Merge, Reshape\n",
    "\n",
    "def laugh_detector():\n",
    "    fbank_input = Input(shape=(474, 96), \n",
    "                        dtype='float32', name='fbank_input')\n",
    "    mfcc_input = Input(shape=(474, 20),\n",
    "                      dtype='float32', name='mfcc_input')\n",
    "    \n",
    "    lstm_mfcc = LSTM(units=128, return_sequences=True)(mfcc_input)\n",
    "    mfcc_out = Dense(units=1, activation='sigmoid', name='mfcc_out')(lstm_mfcc)\n",
    "    mfcc_out = Reshape((474,))(mfcc_out)\n",
    "    \n",
    "    lstm_fbank = LSTM(units=128, return_sequences=True)(fbank_input)\n",
    "    \n",
    "    merged_features = keras.layers.concatenate(\n",
    "        inputs=[lstm_mfcc, lstm_fbank], axis=2)\n",
    "    output = Dense(units=1, activation='sigmoid', name='output')(merged_features)\n",
    "    output = Reshape((474,))(output)\n",
    "    \n",
    "    model = Model(inputs=[fbank_input, mfcc_input],\n",
    "                  outputs=[mfcc_out, output])\n",
    "    \n",
    "    model.compile(optimizer='adam', loss='binary_crossentropy', metrics=['acc'])\n",
    "    return model\n",
    "    \n",
    "model = laugh_detector()"
   ]
  },
  {
   "cell_type": "code",
   "execution_count": 67,
   "metadata": {
    "scrolled": true
   },
   "outputs": [
    {
     "name": "stdout",
     "output_type": "stream",
     "text": [
      "Epoch 1/300\n",
      "10/10 [==============================] - 31s 3s/step - loss: 0.3212 - reshape_1_loss: 0.1607 - reshape_2_loss: 0.1605 - reshape_1_acc: 0.9558 - reshape_2_acc: 0.9558\n",
      "Epoch 2/300\n",
      "10/10 [==============================] - 33s 3s/step - loss: 0.2627 - reshape_1_loss: 0.1312 - reshape_2_loss: 0.1314 - reshape_1_acc: 0.9659 - reshape_2_acc: 0.9659\n",
      "Epoch 3/300\n",
      "10/10 [==============================] - 32s 3s/step - loss: 0.2926 - reshape_1_loss: 0.1469 - reshape_2_loss: 0.1457 - reshape_1_acc: 0.9603 - reshape_2_acc: 0.9603\n",
      "Epoch 4/300\n",
      "10/10 [==============================] - 31s 3s/step - loss: 0.2889 - reshape_1_loss: 0.1447 - reshape_2_loss: 0.1442 - reshape_1_acc: 0.9621 - reshape_2_acc: 0.9621\n",
      "Epoch 5/300\n",
      "10/10 [==============================] - 34s 3s/step - loss: 0.2435 - reshape_1_loss: 0.1218 - reshape_2_loss: 0.1217 - reshape_1_acc: 0.9684 - reshape_2_acc: 0.9684\n",
      "Epoch 6/300\n",
      "10/10 [==============================] - 32s 3s/step - loss: 0.2451 - reshape_1_loss: 0.1228 - reshape_2_loss: 0.1223 - reshape_1_acc: 0.9687 - reshape_2_acc: 0.9687\n",
      "Epoch 7/300\n",
      "10/10 [==============================] - 33s 3s/step - loss: 0.2558 - reshape_1_loss: 0.1279 - reshape_2_loss: 0.1279 - reshape_1_acc: 0.9661 - reshape_2_acc: 0.9661\n",
      "Epoch 8/300\n",
      "10/10 [==============================] - 31s 3s/step - loss: 0.2823 - reshape_1_loss: 0.1410 - reshape_2_loss: 0.1413 - reshape_1_acc: 0.9612 - reshape_2_acc: 0.9612\n",
      "Epoch 9/300\n",
      "10/10 [==============================] - 32s 3s/step - loss: 0.2385 - reshape_1_loss: 0.1193 - reshape_2_loss: 0.1192 - reshape_1_acc: 0.9677 - reshape_2_acc: 0.9677\n",
      "Epoch 10/300\n",
      "10/10 [==============================] - 32s 3s/step - loss: 0.2399 - reshape_1_loss: 0.1202 - reshape_2_loss: 0.1198 - reshape_1_acc: 0.9698 - reshape_2_acc: 0.9698\n",
      "Epoch 11/300\n",
      "10/10 [==============================] - 31s 3s/step - loss: 0.2594 - reshape_1_loss: 0.1298 - reshape_2_loss: 0.1296 - reshape_1_acc: 0.9653 - reshape_2_acc: 0.9653\n",
      "Epoch 12/300\n",
      "10/10 [==============================] - 30s 3s/step - loss: 0.2587 - reshape_1_loss: 0.1292 - reshape_2_loss: 0.1295 - reshape_1_acc: 0.9644 - reshape_2_acc: 0.9644\n",
      "Epoch 13/300\n",
      "10/10 [==============================] - 34s 3s/step - loss: 0.2832 - reshape_1_loss: 0.1417 - reshape_2_loss: 0.1415 - reshape_1_acc: 0.9619 - reshape_2_acc: 0.9619\n",
      "Epoch 14/300\n",
      "10/10 [==============================] - 33s 3s/step - loss: 0.2507 - reshape_1_loss: 0.1255 - reshape_2_loss: 0.1252 - reshape_1_acc: 0.9661 - reshape_2_acc: 0.9661\n",
      "Epoch 15/300\n",
      "10/10 [==============================] - 31s 3s/step - loss: 0.2617 - reshape_1_loss: 0.1308 - reshape_2_loss: 0.1309 - reshape_1_acc: 0.9641 - reshape_2_acc: 0.9641\n",
      "Epoch 16/300\n",
      "10/10 [==============================] - 31s 3s/step - loss: 0.2483 - reshape_1_loss: 0.1244 - reshape_2_loss: 0.1239 - reshape_1_acc: 0.9678 - reshape_2_acc: 0.9678\n",
      "Epoch 17/300\n",
      "10/10 [==============================] - 32s 3s/step - loss: 0.2512 - reshape_1_loss: 0.1257 - reshape_2_loss: 0.1255 - reshape_1_acc: 0.9659 - reshape_2_acc: 0.9659\n",
      "Epoch 18/300\n",
      "10/10 [==============================] - 30s 3s/step - loss: 0.2272 - reshape_1_loss: 0.1139 - reshape_2_loss: 0.1133 - reshape_1_acc: 0.9707 - reshape_2_acc: 0.9707\n",
      "Epoch 19/300\n",
      "10/10 [==============================] - 31s 3s/step - loss: 0.2462 - reshape_1_loss: 0.1228 - reshape_2_loss: 0.1235 - reshape_1_acc: 0.9679 - reshape_2_acc: 0.9679\n",
      "Epoch 20/300\n",
      "10/10 [==============================] - 32s 3s/step - loss: 0.2600 - reshape_1_loss: 0.1302 - reshape_2_loss: 0.1299 - reshape_1_acc: 0.9640 - reshape_2_acc: 0.9640\n",
      "Epoch 21/300\n",
      "10/10 [==============================] - 31s 3s/step - loss: 0.2789 - reshape_1_loss: 0.1388 - reshape_2_loss: 0.1401 - reshape_1_acc: 0.9629 - reshape_2_acc: 0.9629\n",
      "Epoch 22/300\n",
      "10/10 [==============================] - 30s 3s/step - loss: 0.2768 - reshape_1_loss: 0.1385 - reshape_2_loss: 0.1383 - reshape_1_acc: 0.9622 - reshape_2_acc: 0.9622\n",
      "Epoch 23/300\n",
      "10/10 [==============================] - 32s 3s/step - loss: 0.2906 - reshape_1_loss: 0.1455 - reshape_2_loss: 0.1451 - reshape_1_acc: 0.9593 - reshape_2_acc: 0.9593\n",
      "Epoch 24/300\n",
      "10/10 [==============================] - 33s 3s/step - loss: 0.2667 - reshape_1_loss: 0.1330 - reshape_2_loss: 0.1337 - reshape_1_acc: 0.9646 - reshape_2_acc: 0.9646\n",
      "Epoch 25/300\n",
      "10/10 [==============================] - 34s 3s/step - loss: 0.2350 - reshape_1_loss: 0.1179 - reshape_2_loss: 0.1171 - reshape_1_acc: 0.9686 - reshape_2_acc: 0.9686\n",
      "Epoch 26/300\n",
      "10/10 [==============================] - 33s 3s/step - loss: 0.2491 - reshape_1_loss: 0.1243 - reshape_2_loss: 0.1249 - reshape_1_acc: 0.9662 - reshape_2_acc: 0.9662\n",
      "Epoch 27/300\n",
      "10/10 [==============================] - 31s 3s/step - loss: 0.2734 - reshape_1_loss: 0.1365 - reshape_2_loss: 0.1369 - reshape_1_acc: 0.9611 - reshape_2_acc: 0.9611\n",
      "Epoch 28/300\n",
      "10/10 [==============================] - 34s 3s/step - loss: 0.2650 - reshape_1_loss: 0.1326 - reshape_2_loss: 0.1324 - reshape_1_acc: 0.9626 - reshape_2_acc: 0.9626\n",
      "Epoch 29/300\n",
      "10/10 [==============================] - 33s 3s/step - loss: 0.2723 - reshape_1_loss: 0.1361 - reshape_2_loss: 0.1362 - reshape_1_acc: 0.9628 - reshape_2_acc: 0.9628\n",
      "Epoch 30/300\n",
      "10/10 [==============================] - 33s 3s/step - loss: 0.2162 - reshape_1_loss: 0.1086 - reshape_2_loss: 0.1076 - reshape_1_acc: 0.9708 - reshape_2_acc: 0.9708\n",
      "Epoch 31/300\n",
      "10/10 [==============================] - 31s 3s/step - loss: 0.2708 - reshape_1_loss: 0.1354 - reshape_2_loss: 0.1354 - reshape_1_acc: 0.9618 - reshape_2_acc: 0.9618\n",
      "Epoch 32/300\n",
      "10/10 [==============================] - 31s 3s/step - loss: 0.2746 - reshape_1_loss: 0.1373 - reshape_2_loss: 0.1372 - reshape_1_acc: 0.9615 - reshape_2_acc: 0.9615\n",
      "Epoch 33/300\n",
      "10/10 [==============================] - 32s 3s/step - loss: 0.2841 - reshape_1_loss: 0.1420 - reshape_2_loss: 0.1421 - reshape_1_acc: 0.9598 - reshape_2_acc: 0.9598\n",
      "Epoch 34/300\n",
      "10/10 [==============================] - 31s 3s/step - loss: 0.2754 - reshape_1_loss: 0.1374 - reshape_2_loss: 0.1380 - reshape_1_acc: 0.9620 - reshape_2_acc: 0.9620\n",
      "Epoch 35/300\n",
      "10/10 [==============================] - 32s 3s/step - loss: 0.2688 - reshape_1_loss: 0.1342 - reshape_2_loss: 0.1346 - reshape_1_acc: 0.9630 - reshape_2_acc: 0.9630\n",
      "Epoch 36/300\n",
      "10/10 [==============================] - 31s 3s/step - loss: 0.2619 - reshape_1_loss: 0.1308 - reshape_2_loss: 0.1311 - reshape_1_acc: 0.9638 - reshape_2_acc: 0.9638\n",
      "Epoch 37/300\n",
      "10/10 [==============================] - 32s 3s/step - loss: 0.2389 - reshape_1_loss: 0.1192 - reshape_2_loss: 0.1198 - reshape_1_acc: 0.9655 - reshape_2_acc: 0.9655\n",
      "Epoch 38/300\n",
      "10/10 [==============================] - 32s 3s/step - loss: 0.2313 - reshape_1_loss: 0.1156 - reshape_2_loss: 0.1157 - reshape_1_acc: 0.9702 - reshape_2_acc: 0.9702\n",
      "Epoch 39/300\n",
      "10/10 [==============================] - 34s 3s/step - loss: 0.2988 - reshape_1_loss: 0.1494 - reshape_2_loss: 0.1494 - reshape_1_acc: 0.9589 - reshape_2_acc: 0.9589\n",
      "Epoch 40/300\n",
      "10/10 [==============================] - 33s 3s/step - loss: 0.2738 - reshape_1_loss: 0.1370 - reshape_2_loss: 0.1368 - reshape_1_acc: 0.9613 - reshape_2_acc: 0.9613\n",
      "Epoch 41/300\n",
      "10/10 [==============================] - 31s 3s/step - loss: 0.2576 - reshape_1_loss: 0.1286 - reshape_2_loss: 0.1290 - reshape_1_acc: 0.9651 - reshape_2_acc: 0.9651\n",
      "Epoch 42/300\n",
      "10/10 [==============================] - 30s 3s/step - loss: 0.2644 - reshape_1_loss: 0.1319 - reshape_2_loss: 0.1326 - reshape_1_acc: 0.9621 - reshape_2_acc: 0.9621\n",
      "Epoch 43/300\n",
      "10/10 [==============================] - 32s 3s/step - loss: 0.2479 - reshape_1_loss: 0.1241 - reshape_2_loss: 0.1238 - reshape_1_acc: 0.9665 - reshape_2_acc: 0.9665\n",
      "Epoch 44/300\n",
      "10/10 [==============================] - 33s 3s/step - loss: 0.2368 - reshape_1_loss: 0.1183 - reshape_2_loss: 0.1185 - reshape_1_acc: 0.9676 - reshape_2_acc: 0.9676\n",
      "Epoch 45/300\n",
      "10/10 [==============================] - 33s 3s/step - loss: 0.2178 - reshape_1_loss: 0.1090 - reshape_2_loss: 0.1087 - reshape_1_acc: 0.9719 - reshape_2_acc: 0.9719\n",
      "Epoch 46/300\n"
     ]
    },
    {
     "name": "stdout",
     "output_type": "stream",
     "text": [
      "10/10 [==============================] - 32s 3s/step - loss: 0.2957 - reshape_1_loss: 0.1480 - reshape_2_loss: 0.1477 - reshape_1_acc: 0.9597 - reshape_2_acc: 0.9597\n",
      "Epoch 47/300\n",
      "10/10 [==============================] - 32s 3s/step - loss: 0.2869 - reshape_1_loss: 0.1431 - reshape_2_loss: 0.1438 - reshape_1_acc: 0.9583 - reshape_2_acc: 0.9583\n",
      "Epoch 48/300\n",
      "10/10 [==============================] - 31s 3s/step - loss: 0.2279 - reshape_1_loss: 0.1139 - reshape_2_loss: 0.1140 - reshape_1_acc: 0.9677 - reshape_2_acc: 0.9677\n",
      "Epoch 49/300\n",
      "10/10 [==============================] - 33s 3s/step - loss: 0.2811 - reshape_1_loss: 0.1410 - reshape_2_loss: 0.1401 - reshape_1_acc: 0.9617 - reshape_2_acc: 0.9617\n",
      "Epoch 50/300\n",
      "10/10 [==============================] - 32s 3s/step - loss: 0.2689 - reshape_1_loss: 0.1345 - reshape_2_loss: 0.1344 - reshape_1_acc: 0.9605 - reshape_2_acc: 0.9605\n",
      "Epoch 51/300\n",
      "10/10 [==============================] - 31s 3s/step - loss: 0.2571 - reshape_1_loss: 0.1286 - reshape_2_loss: 0.1284 - reshape_1_acc: 0.9636 - reshape_2_acc: 0.9636\n",
      "Epoch 52/300\n",
      "10/10 [==============================] - 33s 3s/step - loss: 0.2304 - reshape_1_loss: 0.1153 - reshape_2_loss: 0.1151 - reshape_1_acc: 0.9682 - reshape_2_acc: 0.9682\n",
      "Epoch 53/300\n",
      "10/10 [==============================] - 32s 3s/step - loss: 0.2357 - reshape_1_loss: 0.1179 - reshape_2_loss: 0.1178 - reshape_1_acc: 0.9668 - reshape_2_acc: 0.9668\n",
      "Epoch 54/300\n",
      "10/10 [==============================] - 35s 4s/step - loss: 0.2363 - reshape_1_loss: 0.1180 - reshape_2_loss: 0.1183 - reshape_1_acc: 0.9671 - reshape_2_acc: 0.9671\n",
      "Epoch 55/300\n",
      "10/10 [==============================] - 31s 3s/step - loss: 0.2821 - reshape_1_loss: 0.1407 - reshape_2_loss: 0.1414 - reshape_1_acc: 0.9593 - reshape_2_acc: 0.9593\n",
      "Epoch 56/300\n",
      "10/10 [==============================] - 31s 3s/step - loss: 0.2817 - reshape_1_loss: 0.1412 - reshape_2_loss: 0.1405 - reshape_1_acc: 0.9598 - reshape_2_acc: 0.9598\n",
      "Epoch 57/300\n",
      "10/10 [==============================] - 32s 3s/step - loss: 0.3116 - reshape_1_loss: 0.1559 - reshape_2_loss: 0.1556 - reshape_1_acc: 0.9529 - reshape_2_acc: 0.9529\n",
      "Epoch 58/300\n",
      "10/10 [==============================] - 30s 3s/step - loss: 0.2881 - reshape_1_loss: 0.1441 - reshape_2_loss: 0.1440 - reshape_1_acc: 0.9578 - reshape_2_acc: 0.9579\n",
      "Epoch 59/300\n",
      "10/10 [==============================] - 30s 3s/step - loss: 0.2246 - reshape_1_loss: 0.1122 - reshape_2_loss: 0.1124 - reshape_1_acc: 0.9699 - reshape_2_acc: 0.9700\n",
      "Epoch 60/300\n",
      "10/10 [==============================] - 31s 3s/step - loss: 0.2560 - reshape_1_loss: 0.1281 - reshape_2_loss: 0.1279 - reshape_1_acc: 0.9640 - reshape_2_acc: 0.9641\n",
      "Epoch 61/300\n",
      "10/10 [==============================] - 32s 3s/step - loss: 0.2601 - reshape_1_loss: 0.1299 - reshape_2_loss: 0.1302 - reshape_1_acc: 0.9622 - reshape_2_acc: 0.9623\n",
      "Epoch 62/300\n",
      "10/10 [==============================] - 33s 3s/step - loss: 0.2304 - reshape_1_loss: 0.1155 - reshape_2_loss: 0.1149 - reshape_1_acc: 0.9682 - reshape_2_acc: 0.9686\n",
      "Epoch 63/300\n",
      "10/10 [==============================] - 34s 3s/step - loss: 0.2944 - reshape_1_loss: 0.1463 - reshape_2_loss: 0.1482 - reshape_1_acc: 0.9585 - reshape_2_acc: 0.9587\n",
      "Epoch 64/300\n",
      "10/10 [==============================] - 32s 3s/step - loss: 0.2310 - reshape_1_loss: 0.1148 - reshape_2_loss: 0.1162 - reshape_1_acc: 0.9693 - reshape_2_acc: 0.9696\n",
      "Epoch 65/300\n",
      "10/10 [==============================] - 30s 3s/step - loss: 0.2028 - reshape_1_loss: 0.1010 - reshape_2_loss: 0.1018 - reshape_1_acc: 0.9725 - reshape_2_acc: 0.9725\n",
      "Epoch 66/300\n",
      "10/10 [==============================] - 31s 3s/step - loss: 0.2385 - reshape_1_loss: 0.1195 - reshape_2_loss: 0.1190 - reshape_1_acc: 0.9660 - reshape_2_acc: 0.9662\n",
      "Epoch 67/300\n",
      "10/10 [==============================] - 31s 3s/step - loss: 0.2600 - reshape_1_loss: 0.1298 - reshape_2_loss: 0.1302 - reshape_1_acc: 0.9627 - reshape_2_acc: 0.9629\n",
      "Epoch 68/300\n",
      "10/10 [==============================] - 32s 3s/step - loss: 0.2403 - reshape_1_loss: 0.1196 - reshape_2_loss: 0.1207 - reshape_1_acc: 0.9665 - reshape_2_acc: 0.9666\n",
      "Epoch 69/300\n",
      "10/10 [==============================] - 32s 3s/step - loss: 0.2483 - reshape_1_loss: 0.1243 - reshape_2_loss: 0.1240 - reshape_1_acc: 0.9652 - reshape_2_acc: 0.9654\n",
      "Epoch 70/300\n",
      "10/10 [==============================] - 31s 3s/step - loss: 0.2528 - reshape_1_loss: 0.1266 - reshape_2_loss: 0.1262 - reshape_1_acc: 0.9652 - reshape_2_acc: 0.9655\n",
      "Epoch 71/300\n",
      "10/10 [==============================] - 30s 3s/step - loss: 0.2382 - reshape_1_loss: 0.1186 - reshape_2_loss: 0.1196 - reshape_1_acc: 0.9661 - reshape_2_acc: 0.9662\n",
      "Epoch 72/300\n",
      "10/10 [==============================] - 31s 3s/step - loss: 0.2536 - reshape_1_loss: 0.1268 - reshape_2_loss: 0.1268 - reshape_1_acc: 0.9653 - reshape_2_acc: 0.9661\n",
      "Epoch 73/300\n",
      "10/10 [==============================] - 32s 3s/step - loss: 0.2463 - reshape_1_loss: 0.1230 - reshape_2_loss: 0.1234 - reshape_1_acc: 0.9645 - reshape_2_acc: 0.9645\n",
      "Epoch 74/300\n",
      "10/10 [==============================] - 32s 3s/step - loss: 0.2980 - reshape_1_loss: 0.1487 - reshape_2_loss: 0.1493 - reshape_1_acc: 0.9587 - reshape_2_acc: 0.9589\n",
      "Epoch 75/300\n",
      "10/10 [==============================] - 32s 3s/step - loss: 0.2170 - reshape_1_loss: 0.1078 - reshape_2_loss: 0.1092 - reshape_1_acc: 0.9701 - reshape_2_acc: 0.9702\n",
      "Epoch 76/300\n",
      "10/10 [==============================] - 32s 3s/step - loss: 0.2631 - reshape_1_loss: 0.1314 - reshape_2_loss: 0.1317 - reshape_1_acc: 0.9626 - reshape_2_acc: 0.9626\n",
      "Epoch 77/300\n",
      "10/10 [==============================] - 32s 3s/step - loss: 0.2246 - reshape_1_loss: 0.1122 - reshape_2_loss: 0.1124 - reshape_1_acc: 0.9695 - reshape_2_acc: 0.9694\n",
      "Epoch 78/300\n",
      "10/10 [==============================] - 33s 3s/step - loss: 0.2327 - reshape_1_loss: 0.1165 - reshape_2_loss: 0.1161 - reshape_1_acc: 0.9687 - reshape_2_acc: 0.9688\n",
      "Epoch 79/300\n",
      "10/10 [==============================] - 30s 3s/step - loss: 0.2542 - reshape_1_loss: 0.1265 - reshape_2_loss: 0.1277 - reshape_1_acc: 0.9643 - reshape_2_acc: 0.9645\n",
      "Epoch 80/300\n",
      "10/10 [==============================] - 33s 3s/step - loss: 0.2328 - reshape_1_loss: 0.1156 - reshape_2_loss: 0.1172 - reshape_1_acc: 0.9667 - reshape_2_acc: 0.9669\n",
      "Epoch 81/300\n",
      "10/10 [==============================] - 32s 3s/step - loss: 0.2103 - reshape_1_loss: 0.1051 - reshape_2_loss: 0.1052 - reshape_1_acc: 0.9709 - reshape_2_acc: 0.9711\n",
      "Epoch 82/300\n",
      "10/10 [==============================] - 32s 3s/step - loss: 0.2473 - reshape_1_loss: 0.1234 - reshape_2_loss: 0.1239 - reshape_1_acc: 0.9630 - reshape_2_acc: 0.9633\n",
      "Epoch 83/300\n",
      "10/10 [==============================] - 31s 3s/step - loss: 0.2338 - reshape_1_loss: 0.1170 - reshape_2_loss: 0.1168 - reshape_1_acc: 0.9673 - reshape_2_acc: 0.9674\n",
      "Epoch 84/300\n",
      "10/10 [==============================] - 33s 3s/step - loss: 0.2399 - reshape_1_loss: 0.1197 - reshape_2_loss: 0.1202 - reshape_1_acc: 0.9674 - reshape_2_acc: 0.9678\n",
      "Epoch 85/300\n",
      "10/10 [==============================] - 33s 3s/step - loss: 0.2743 - reshape_1_loss: 0.1365 - reshape_2_loss: 0.1377 - reshape_1_acc: 0.9612 - reshape_2_acc: 0.9617\n",
      "Epoch 86/300\n",
      "10/10 [==============================] - 32s 3s/step - loss: 0.2713 - reshape_1_loss: 0.1356 - reshape_2_loss: 0.1357 - reshape_1_acc: 0.9605 - reshape_2_acc: 0.9610\n",
      "Epoch 87/300\n",
      "10/10 [==============================] - 31s 3s/step - loss: 0.2068 - reshape_1_loss: 0.1033 - reshape_2_loss: 0.1035 - reshape_1_acc: 0.9718 - reshape_2_acc: 0.9719\n",
      "Epoch 88/300\n",
      "10/10 [==============================] - 32s 3s/step - loss: 0.2407 - reshape_1_loss: 0.1200 - reshape_2_loss: 0.1207 - reshape_1_acc: 0.9667 - reshape_2_acc: 0.9671\n",
      "Epoch 89/300\n",
      "10/10 [==============================] - 33s 3s/step - loss: 0.2393 - reshape_1_loss: 0.1195 - reshape_2_loss: 0.1199 - reshape_1_acc: 0.9639 - reshape_2_acc: 0.9643\n",
      "Epoch 90/300\n",
      "10/10 [==============================] - 31s 3s/step - loss: 0.2659 - reshape_1_loss: 0.1328 - reshape_2_loss: 0.1332 - reshape_1_acc: 0.9604 - reshape_2_acc: 0.9609\n",
      "Epoch 91/300\n"
     ]
    },
    {
     "name": "stdout",
     "output_type": "stream",
     "text": [
      "10/10 [==============================] - 32s 3s/step - loss: 0.2008 - reshape_1_loss: 0.1001 - reshape_2_loss: 0.1007 - reshape_1_acc: 0.9722 - reshape_2_acc: 0.9726\n",
      "Epoch 92/300\n",
      "10/10 [==============================] - 32s 3s/step - loss: 0.2716 - reshape_1_loss: 0.1358 - reshape_2_loss: 0.1358 - reshape_1_acc: 0.9627 - reshape_2_acc: 0.9626\n",
      "Epoch 93/300\n",
      "10/10 [==============================] - 31s 3s/step - loss: 0.2388 - reshape_1_loss: 0.1189 - reshape_2_loss: 0.1198 - reshape_1_acc: 0.9634 - reshape_2_acc: 0.9634\n",
      "Epoch 94/300\n",
      "10/10 [==============================] - 31s 3s/step - loss: 0.2763 - reshape_1_loss: 0.1381 - reshape_2_loss: 0.1382 - reshape_1_acc: 0.9609 - reshape_2_acc: 0.9612\n",
      "Epoch 95/300\n",
      "10/10 [==============================] - 31s 3s/step - loss: 0.2575 - reshape_1_loss: 0.1288 - reshape_2_loss: 0.1286 - reshape_1_acc: 0.9634 - reshape_2_acc: 0.9639\n",
      "Epoch 96/300\n",
      "10/10 [==============================] - 32s 3s/step - loss: 0.2890 - reshape_1_loss: 0.1446 - reshape_2_loss: 0.1445 - reshape_1_acc: 0.9571 - reshape_2_acc: 0.9578\n",
      "Epoch 97/300\n",
      "10/10 [==============================] - 31s 3s/step - loss: 0.2551 - reshape_1_loss: 0.1276 - reshape_2_loss: 0.1275 - reshape_1_acc: 0.9642 - reshape_2_acc: 0.9644\n",
      "Epoch 98/300\n",
      "10/10 [==============================] - 33s 3s/step - loss: 0.2543 - reshape_1_loss: 0.1269 - reshape_2_loss: 0.1274 - reshape_1_acc: 0.9642 - reshape_2_acc: 0.9646\n",
      "Epoch 99/300\n",
      "10/10 [==============================] - 32s 3s/step - loss: 0.2808 - reshape_1_loss: 0.1402 - reshape_2_loss: 0.1406 - reshape_1_acc: 0.9608 - reshape_2_acc: 0.9611\n",
      "Epoch 100/300\n",
      "10/10 [==============================] - 33s 3s/step - loss: 0.2266 - reshape_1_loss: 0.1130 - reshape_2_loss: 0.1135 - reshape_1_acc: 0.9681 - reshape_2_acc: 0.9684\n",
      "Epoch 101/300\n",
      "10/10 [==============================] - 31s 3s/step - loss: 0.2795 - reshape_1_loss: 0.1395 - reshape_2_loss: 0.1400 - reshape_1_acc: 0.9592 - reshape_2_acc: 0.9592\n",
      "Epoch 102/300\n",
      "10/10 [==============================] - 32s 3s/step - loss: 0.2289 - reshape_1_loss: 0.1145 - reshape_2_loss: 0.1144 - reshape_1_acc: 0.9695 - reshape_2_acc: 0.9698\n",
      "Epoch 103/300\n",
      "10/10 [==============================] - 32s 3s/step - loss: 0.2819 - reshape_1_loss: 0.1406 - reshape_2_loss: 0.1413 - reshape_1_acc: 0.9586 - reshape_2_acc: 0.9587\n",
      "Epoch 104/300\n",
      "10/10 [==============================] - 32s 3s/step - loss: 0.2654 - reshape_1_loss: 0.1323 - reshape_2_loss: 0.1331 - reshape_1_acc: 0.9623 - reshape_2_acc: 0.9624\n",
      "Epoch 105/300\n",
      "10/10 [==============================] - 32s 3s/step - loss: 0.2237 - reshape_1_loss: 0.1117 - reshape_2_loss: 0.1120 - reshape_1_acc: 0.9680 - reshape_2_acc: 0.9677\n",
      "Epoch 106/300\n",
      " 5/10 [==============>...............] - ETA: 17s - loss: 0.2940 - reshape_1_loss: 0.1469 - reshape_2_loss: 0.1472 - reshape_1_acc: 0.9568 - reshape_2_acc: 0.9568"
     ]
    },
    {
     "ename": "KeyboardInterrupt",
     "evalue": "",
     "output_type": "error",
     "traceback": [
      "\u001b[0;31m---------------------------------------------------------------------------\u001b[0m",
      "\u001b[0;31mKeyboardInterrupt\u001b[0m                         Traceback (most recent call last)",
      "\u001b[0;32m<ipython-input-67-f76450d5c4c5>\u001b[0m in \u001b[0;36m<module>\u001b[0;34m()\u001b[0m\n\u001b[1;32m      1\u001b[0m model.fit_generator(DataGenerator(), steps_per_epoch=10,\n\u001b[0;32m----> 2\u001b[0;31m                         workers=4, epochs=300, shuffle=False)\n\u001b[0m",
      "\u001b[0;32m~/anaconda3/lib/python3.6/site-packages/keras/legacy/interfaces.py\u001b[0m in \u001b[0;36mwrapper\u001b[0;34m(*args, **kwargs)\u001b[0m\n\u001b[1;32m     85\u001b[0m                 warnings.warn('Update your `' + object_name +\n\u001b[1;32m     86\u001b[0m                               '` call to the Keras 2 API: ' + signature, stacklevel=2)\n\u001b[0;32m---> 87\u001b[0;31m             \u001b[0;32mreturn\u001b[0m \u001b[0mfunc\u001b[0m\u001b[0;34m(\u001b[0m\u001b[0;34m*\u001b[0m\u001b[0margs\u001b[0m\u001b[0;34m,\u001b[0m \u001b[0;34m**\u001b[0m\u001b[0mkwargs\u001b[0m\u001b[0;34m)\u001b[0m\u001b[0;34m\u001b[0m\u001b[0m\n\u001b[0m\u001b[1;32m     88\u001b[0m         \u001b[0mwrapper\u001b[0m\u001b[0;34m.\u001b[0m\u001b[0m_original_function\u001b[0m \u001b[0;34m=\u001b[0m \u001b[0mfunc\u001b[0m\u001b[0;34m\u001b[0m\u001b[0m\n\u001b[1;32m     89\u001b[0m         \u001b[0;32mreturn\u001b[0m \u001b[0mwrapper\u001b[0m\u001b[0;34m\u001b[0m\u001b[0m\n",
      "\u001b[0;32m~/anaconda3/lib/python3.6/site-packages/keras/engine/training.py\u001b[0m in \u001b[0;36mfit_generator\u001b[0;34m(self, generator, steps_per_epoch, epochs, verbose, callbacks, validation_data, validation_steps, class_weight, max_queue_size, workers, use_multiprocessing, shuffle, initial_epoch)\u001b[0m\n\u001b[1;32m   2113\u001b[0m                 \u001b[0mbatch_index\u001b[0m \u001b[0;34m=\u001b[0m \u001b[0;36m0\u001b[0m\u001b[0;34m\u001b[0m\u001b[0m\n\u001b[1;32m   2114\u001b[0m                 \u001b[0;32mwhile\u001b[0m \u001b[0msteps_done\u001b[0m \u001b[0;34m<\u001b[0m \u001b[0msteps_per_epoch\u001b[0m\u001b[0;34m:\u001b[0m\u001b[0;34m\u001b[0m\u001b[0m\n\u001b[0;32m-> 2115\u001b[0;31m                     \u001b[0mgenerator_output\u001b[0m \u001b[0;34m=\u001b[0m \u001b[0mnext\u001b[0m\u001b[0;34m(\u001b[0m\u001b[0moutput_generator\u001b[0m\u001b[0;34m)\u001b[0m\u001b[0;34m\u001b[0m\u001b[0m\n\u001b[0m\u001b[1;32m   2116\u001b[0m \u001b[0;34m\u001b[0m\u001b[0m\n\u001b[1;32m   2117\u001b[0m                     \u001b[0;32mif\u001b[0m \u001b[0;32mnot\u001b[0m \u001b[0mhasattr\u001b[0m\u001b[0;34m(\u001b[0m\u001b[0mgenerator_output\u001b[0m\u001b[0;34m,\u001b[0m \u001b[0;34m'__len__'\u001b[0m\u001b[0;34m)\u001b[0m\u001b[0;34m:\u001b[0m\u001b[0;34m\u001b[0m\u001b[0m\n",
      "\u001b[0;32m~/anaconda3/lib/python3.6/site-packages/keras/utils/data_utils.py\u001b[0m in \u001b[0;36mget\u001b[0;34m(self)\u001b[0m\n\u001b[1;32m    727\u001b[0m                     \u001b[0;32mraise\u001b[0m \u001b[0mStopIteration\u001b[0m\u001b[0;34m(\u001b[0m\u001b[0;34m)\u001b[0m\u001b[0;34m\u001b[0m\u001b[0m\n\u001b[1;32m    728\u001b[0m                 \u001b[0;32melse\u001b[0m\u001b[0;34m:\u001b[0m\u001b[0;34m\u001b[0m\u001b[0m\n\u001b[0;32m--> 729\u001b[0;31m                     \u001b[0mtime\u001b[0m\u001b[0;34m.\u001b[0m\u001b[0msleep\u001b[0m\u001b[0;34m(\u001b[0m\u001b[0mself\u001b[0m\u001b[0;34m.\u001b[0m\u001b[0mwait_time\u001b[0m\u001b[0;34m)\u001b[0m\u001b[0;34m\u001b[0m\u001b[0m\n\u001b[0m\u001b[1;32m    730\u001b[0m \u001b[0;34m\u001b[0m\u001b[0m\n\u001b[1;32m    731\u001b[0m         \u001b[0;31m# Make sure to rethrow the first exception in the queue, if any\u001b[0m\u001b[0;34m\u001b[0m\u001b[0;34m\u001b[0m\u001b[0m\n",
      "\u001b[0;31mKeyboardInterrupt\u001b[0m: "
     ]
    }
   ],
   "source": [
    "model.fit_generator(DataGenerator(), steps_per_epoch=10,\n",
    "                        workers=4, epochs=300, shuffle=False)"
   ]
  },
  {
   "cell_type": "code",
   "execution_count": 68,
   "metadata": {},
   "outputs": [
    {
     "name": "stdout",
     "output_type": "stream",
     "text": [
      "ROC AUC score on mfcc out 0.830922937775\n",
      "ROC AUC score on common out 0.830750320557\n"
     ]
    }
   ],
   "source": [
    "def test(n=100):\n",
    "    x_fs = np.zeros((n, 96, 474), dtype=np.float32)\n",
    "    x_ms = np.zeros((n, 20, 474), dtype=np.float32)\n",
    "    ys = np.zeros((n, 474), dtype=np.float32)\n",
    "    \n",
    "    for i in range(n):\n",
    "        x, y = next(audio_gen)\n",
    "        x_fbank, x_mfcc = get_features(x)\n",
    "        \n",
    "        x_fs[i] = x_fbank\n",
    "        x_ms[i] = x_mfcc\n",
    "        \n",
    "        ys[i] = create_from_label(y)\n",
    "\n",
    "    x_fs = np.swapaxes(x_fs, 1, 2)\n",
    "    x_ms = np.swapaxes(x_ms, 1, 2)\n",
    "    result = model.predict([x_fs, x_ms])\n",
    "\n",
    "    ys = np.reshape(ys, (n * 474,))\n",
    "    result_0 = np.reshape(result[0], (n * 474,))\n",
    "    result_1 = np.reshape(result[1], (n * 474,))\n",
    "    \n",
    "    roc0 = roc_auc_score(ys, result_0)\n",
    "    roc1 = roc_auc_score(ys, result_1)\n",
    "    \n",
    "    print('ROC AUC score on mfcc out', roc1)\n",
    "    print('ROC AUC score on common out', roc0)\n",
    "    \n",
    "test()"
   ]
  },
  {
   "cell_type": "code",
   "execution_count": 99,
   "metadata": {},
   "outputs": [
    {
     "data": {
      "image/png": "[encoded data removed]",
      "text/plain": [
       "<matplotlib.figure.Figure at 0x7f8343cb8978>"
      ]
     },
     "metadata": {},
     "output_type": "display_data"
    }
   ],
   "source": [
    "def draw_detections(figh=20, figw=8):\n",
    "    x, y = next(audio_gen)\n",
    "    x_fbank, x_mfcc = get_features(x)\n",
    "    x_f = np.array([np.swapaxes(x_fbank, 0, 1)])\n",
    "    x_m = np.array([np.swapaxes(x_mfcc, 0, 1)])\n",
    "    \n",
    "    y = create_from_label(y)\n",
    "    result = model.predict([x_f, x_m])\n",
    "    \n",
    "    plt.figure(111, figsize=(figh, figw))\n",
    "    \n",
    "    x_axis = np.linspace(0, 11, 474)\n",
    "    plt.plot(x_axis, y)\n",
    "    plt.plot(x_axis, result[1][0], 'r')\n",
    "    plt.show()\n",
    "    \n",
    "draw_detections()"
   ]
  },
  {
   "cell_type": "code",
   "execution_count": null,
   "metadata": {
    "collapsed": true
   },
   "outputs": [],
   "source": []
  }
 ],
 "metadata": {
  "kernelspec": {
   "display_name": "Python 3",
   "language": "python",
   "name": "python3"
  },
  "language_info": {
   "codemirror_mode": {
    "name": "ipython",
    "version": 3
   },
   "file_extension": ".py",
   "mimetype": "text/x-python",
   "name": "python",
   "nbconvert_exporter": "python",
   "pygments_lexer": "ipython3",
   "version": "3.6.3"
  }
 },
 "nbformat": 4,
 "nbformat_minor": 2
}
